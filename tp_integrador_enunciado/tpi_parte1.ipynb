{
 "cells": [
  {
   "cell_type": "markdown",
   "id": "07289bb0",
   "metadata": {},
   "source": [
    "# Trabajo integrador - Parte 1\n",
    "## Python y Numpy\n",
    "\n",
    "**Nombre**: Camilo Enrique Argoty Pulido"
   ]
  },
  {
   "cell_type": "code",
   "execution_count": 25,
   "id": "aaf94e0a",
   "metadata": {
    "id": "aaf94e0a"
   },
   "outputs": [],
   "source": [
    "import numpy as np\n",
    "import random"
   ]
  },
  {
   "cell_type": "markdown",
   "id": "0ffe9554",
   "metadata": {},
   "source": [
    "## Ejercicio 1\n",
    "\n",
    "Dada una matriz en formato *numpy array*, donde cada fila de la matriz representa un vector matemático, se requiere computar las normas $l_0$, $l_1$, $l_2$, $l_{\\infty}$, según la siguientes definiciones:\n",
    "\n",
    "\\begin{equation}\n",
    "    ||\\mathbf{x}||^{p} = \\bigg(\\sum_{j=1}^{n}{|x_i|^p}\\bigg)^{\\frac{1}{p}}\n",
    "\\end{equation}\n",
    "\n",
    "con los casos especiales para $p=0$ y $p=\\infty$ siendo:\n",
    "\n",
    "\\begin{equation}\n",
    "    \\begin{array}{rcl}\n",
    "        ||\\mathbf{x}||_0 & = & \\bigg(\\sum_{j=1 \\wedge x_j != 0}{|x_i|}\\bigg)\\\\\n",
    "        ||\\mathbf{x}||_{\\infty} & = & \\max_{i}{|x_i|}\\\\\n",
    "    \\end{array}\n",
    "\\end{equation}"
   ]
  },
  {
   "cell_type": "code",
   "execution_count": 14,
   "id": "0bdb0ee3",
   "metadata": {},
   "outputs": [],
   "source": [
    "def p_norm(array,p):\n",
    "    n = len(array)\n",
    "    m = len(array[0])\n",
    "#    print(n)\n",
    "#    print(m)\n",
    "    if p == 0:\n",
    "        suma = 0\n",
    "        for i in range(n):\n",
    "            for j in range(m):\n",
    "                suma += abs(array[i][j])\n",
    "        norm = suma\n",
    "    elif p == 'inf':\n",
    "        norm = 0\n",
    "        for i in range(n):\n",
    "            for j in range(m):\n",
    "                if abs(array[i][j]) > norm:\n",
    "                    norm = abs(array[i][j])\n",
    "    else:    \n",
    "        suma = 0\n",
    "        for i in range(n):\n",
    "            for j in range(m):\n",
    "                suma += array[i][j]**p\n",
    "        norm = suma**(1/p)\n",
    "    return norm"
   ]
  },
  {
   "cell_type": "code",
   "execution_count": 17,
   "id": "d73a84e6",
   "metadata": {},
   "outputs": [
    {
     "data": {
      "text/plain": [
       "21.347927939039025"
      ]
     },
     "execution_count": 17,
     "metadata": {},
     "output_type": "execute_result"
    }
   ],
   "source": [
    "p_norm(np.array(([11, 12, 13, 14], [21, 22, 23, 24], [31, 32, 33, 34])),7)"
   ]
  },
  {
   "cell_type": "markdown",
   "id": "dd66d862",
   "metadata": {},
   "source": [
    "## Ejercicio 2\n",
    "\n",
    "En clasificación contamos con dos arreglos, la “verdad” y la “predicción”. Cada elemento de los arreglos pueden tomar dos valores, “True” (representado por 1) y “False” (representado por 0). Entonces podemos definir 4 variables:\n",
    "\n",
    "* True Positive (TP): El valor verdadero es 1 y el valor predicho es 1\n",
    "* True Negative (TN): El valor verdadero es 0 y el valor predicho es 0\n",
    "* False Positive (FP): El valor verdadero es 0 y el valor predicho es 1\n",
    "* False Negative (FN): El valor verdadero es 1 y el valor predicho es 0\n",
    "\n",
    "A partir de esto definimos:\n",
    "\n",
    "* Precision = TP / (TP + FP)\n",
    "* Recall = TP / (TP + FN)\n",
    "* Accuracy = (TP + TN) / (TP + TN + FP + FN)\n",
    " \n",
    "Calcular las 3 métricas con Numpy y operaciones vectorizadas."
   ]
  },
  {
   "cell_type": "code",
   "execution_count": 18,
   "id": "794dcd58",
   "metadata": {},
   "outputs": [],
   "source": [
    "truth = np.array([1,1,0,1,1,1,0,0,0,1])\n",
    "prediction = np.array([1,1,1,1,0,0,1,1,0,0])"
   ]
  },
  {
   "cell_type": "code",
   "execution_count": 21,
   "id": "6bf16885",
   "metadata": {},
   "outputs": [],
   "source": [
    "def positives_negatives(prediction,truth):\n",
    "    TP = 0\n",
    "    TN = 0\n",
    "    FP = 0\n",
    "    FN = 0\n",
    "    for i in range(len(truth)):\n",
    "        if truth[i] == 1:\n",
    "            if prediction[i] == 1:\n",
    "                TP += 1\n",
    "            elif prediction[i] == 0:\n",
    "                FN += 1\n",
    "        elif truth[i] == 0:\n",
    "            if prediction[i] == 1:\n",
    "                FP += 1\n",
    "            elif prediction[i] == 0:\n",
    "                TN += 1\n",
    "    return {'TP':TP,'TN':TN,'FP':FP,'FN':FN}"
   ]
  },
  {
   "cell_type": "code",
   "execution_count": 22,
   "id": "89592150",
   "metadata": {},
   "outputs": [
    {
     "data": {
      "text/plain": [
       "{'TP': 3, 'TN': 1, 'FP': 3, 'FN': 3}"
      ]
     },
     "execution_count": 22,
     "metadata": {},
     "output_type": "execute_result"
    }
   ],
   "source": [
    "positives_negatives(prediction,truth)"
   ]
  },
  {
   "cell_type": "code",
   "execution_count": 23,
   "id": "17e86850",
   "metadata": {},
   "outputs": [],
   "source": [
    "def metrics(prediction,truth):\n",
    "    return {'precision':positives_negatives(prediction,truth)['TP'] / (positives_negatives(prediction,truth)['TP'] + positives_negatives(prediction,truth)['FP']),\n",
    "           'Recall': positives_negatives(prediction,truth)['TP'] / (positives_negatives(prediction,truth)['TP'] + positives_negatives(prediction,truth)['FN']),\n",
    "           'Accuracy': (positives_negatives(prediction,truth)['TP'] + positives_negatives(prediction,truth)['TN']) / (positives_negatives(prediction,truth)['TP'] + positives_negatives(prediction,truth)['TN'] + positives_negatives(prediction,truth)['FP'] + positives_negatives(prediction,truth)['FN'])}"
   ]
  },
  {
   "cell_type": "code",
   "execution_count": 24,
   "id": "c9bf4a1b",
   "metadata": {},
   "outputs": [
    {
     "data": {
      "text/plain": [
       "{'precision': 0.5, 'Recall': 0.5, 'Accuracy': 0.4}"
      ]
     },
     "execution_count": 24,
     "metadata": {},
     "output_type": "execute_result"
    }
   ],
   "source": [
    "metrics(prediction,truth)"
   ]
  },
  {
   "cell_type": "markdown",
   "id": "d0ac6f6f",
   "metadata": {},
   "source": [
    "## Ejercicio 3\n",
    "\n",
    "Crear una función que separe los datos en train-validation-test. Debe recibir de parametros:\n",
    "\n",
    "- X: Array o Dataframe que contiene los datos de entrada del sistema.\n",
    "- y: Array o Dataframe que contiene la(s) variable(s) target del problema.\n",
    "- train_percentage: _float_ el porcentaje de training.\n",
    "- test_percentage: _float_ el porcentaje de testing.\n",
    "- val_percentage: _float_ el porcentaje de validación.\n",
    "- shuffle: _bool_ determina si el split debe hacerse de manera random o no.\n",
    "\n",
    "Hints: \n",
    "\n",
    "* Usar Indexing y slicing\n",
    "* Usar np.random.[...]"
   ]
  },
  {
   "cell_type": "code",
   "execution_count": 27,
   "id": "ca85fc66",
   "metadata": {},
   "outputs": [],
   "source": [
    "def split(X_input,\n",
    "          Y_input,\n",
    "          train_size=0.7,\n",
    "          val_size=0.15,\n",
    "          test_size=0.15,\n",
    "          random_state=42,\n",
    "          shuffle=True):\n",
    "    n = len(X_input)\n",
    "    tr_size = floor(n*train_size)\n",
    "    tst_size = floor(n*test_size)\n",
    "    vl_size = ceil(n*val_size)\n",
    "    if shuffle == True:\n",
    "        X_input = np.random.shuffle(X_input)\n",
    "    X_train = X_input[:tr_size]\n",
    "    X_test = X_input[tr_size:tst_size]\n",
    "    X_val = X_input[tst_size:vl_size]\n",
    "    Y_train = Y_input[:tr_size]\n",
    "    Y_test = Y_input[tr_size:tst_size]\n",
    "    Y_val = Y_input[tst_size:vl_size]\n",
    "    return X_train, Y_train, X_test, Y_train, X_val, Y_val"
   ]
  }
 ],
 "metadata": {
  "colab": {
   "collapsed_sections": [],
   "name": "Practica_clase_3.ipynb",
   "provenance": []
  },
  "kernelspec": {
   "display_name": "Python 3 (ipykernel)",
   "language": "python",
   "name": "python3"
  },
  "language_info": {
   "codemirror_mode": {
    "name": "ipython",
    "version": 3
   },
   "file_extension": ".py",
   "mimetype": "text/x-python",
   "name": "python",
   "nbconvert_exporter": "python",
   "pygments_lexer": "ipython3",
   "version": "3.9.13"
  },
  "vscode": {
   "interpreter": {
    "hash": "b5c22da4a52024410f64f9c5a5e2b4ffeeb944a5ed00e8825a42174cdab30315"
   }
  }
 },
 "nbformat": 4,
 "nbformat_minor": 5
}
